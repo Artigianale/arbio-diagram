{
 "cells": [
  {
   "cell_type": "markdown",
   "metadata": {},
   "source": [
    "# Diagramación de una Chacra para Forestería Análoga"
   ]
  },
  {
   "cell_type": "markdown",
   "metadata": {},
   "source": [
    "### © Equipo I+D SomosAZUCAR - Bajo licencia AGPLv3\n",
    "\n",
    "```\n",
    "Diagramador de Planos para Forestería Análoga\n",
    "Copyright (C) 2015 Sebastian Silva\n",
    "\n",
    "This program is free software: you can redistribute it and/or modify\n",
    "it under the terms of the GNU Affero General Public License as published by\n",
    "the Free Software Foundation, either version 3 of the License, or\n",
    "(at your option) any later version.\n",
    "\n",
    "This program is distributed in the hope that it will be useful,\n",
    "but WITHOUT ANY WARRANTY; without even the implied warranty of\n",
    "MERCHANTABILITY or FITNESS FOR A PARTICULAR PURPOSE.  See the\n",
    "GNU Affero General Public License for more details.\n",
    "\n",
    "You should have received a copy of the GNU Affero General Public License\n",
    "along with this program.  If not, see <http://www.gnu.org/licenses/>.\n",
    "```"
   ]
  },
  {
   "cell_type": "code",
   "execution_count": 3,
   "metadata": {
    "collapsed": false
   },
   "outputs": [],
   "source": [
    "# Bibliotecas utilizadas para confeccionar el mapa\n",
    "%matplotlib inline\n",
    "import matplotlib.pyplot as plt\n",
    "from shapely import geometry\n",
    "import numpy as np\n",
    "import pandas as pd\n",
    "import random\n",
    "import mpld3\n",
    "from tqdm import tqdm"
   ]
  },
  {
   "cell_type": "markdown",
   "metadata": {},
   "source": [
    "## 1.- DATOS INICIALES\n",
    "### © Arbio - licencia por definir"
   ]
  },
  {
   "cell_type": "markdown",
   "metadata": {},
   "source": [
    "La base de datos consiste en una lista de especies, cantidades, diámetro, y características."
   ]
  },
  {
   "cell_type": "code",
   "execution_count": 35,
   "metadata": {
    "collapsed": false
   },
   "outputs": [],
   "source": [
    "especies = pd.read_csv(\"db_final.csv\") ## Es una base\n",
    "#especies = especies[(especies.Estrato==5)]\n",
    "especies = especies.sort('Estrato', ascending=False)\n",
    "especies = especies[(especies.Usos==\"Medicinal\")]"
   ]
  },
  {
   "cell_type": "code",
   "execution_count": 36,
   "metadata": {
    "collapsed": false
   },
   "outputs": [
    {
     "data": {
      "text/html": [
       "<div>\n",
       "<table border=\"1\" class=\"dataframe\">\n",
       "  <thead>\n",
       "    <tr style=\"text-align: right;\">\n",
       "      <th></th>\n",
       "      <th>especies</th>\n",
       "      <th>individuos</th>\n",
       "    </tr>\n",
       "    <tr>\n",
       "      <th>Estrato</th>\n",
       "      <th></th>\n",
       "      <th></th>\n",
       "    </tr>\n",
       "  </thead>\n",
       "  <tbody>\n",
       "    <tr>\n",
       "      <th>1</th>\n",
       "      <td>4</td>\n",
       "      <td>612</td>\n",
       "    </tr>\n",
       "    <tr>\n",
       "      <th>2</th>\n",
       "      <td>6</td>\n",
       "      <td>132</td>\n",
       "    </tr>\n",
       "    <tr>\n",
       "      <th>3</th>\n",
       "      <td>8</td>\n",
       "      <td>56</td>\n",
       "    </tr>\n",
       "    <tr>\n",
       "      <th>4</th>\n",
       "      <td>7</td>\n",
       "      <td>28</td>\n",
       "    </tr>\n",
       "    <tr>\n",
       "      <th>5</th>\n",
       "      <td>2</td>\n",
       "      <td>8</td>\n",
       "    </tr>\n",
       "    <tr>\n",
       "      <th>Total</th>\n",
       "      <td>27</td>\n",
       "      <td>836</td>\n",
       "    </tr>\n",
       "  </tbody>\n",
       "</table>\n",
       "</div>"
      ],
      "text/plain": [
       "         especies  individuos\n",
       "Estrato                      \n",
       "1               4         612\n",
       "2               6         132\n",
       "3               8          56\n",
       "4               7          28\n",
       "5               2           8\n",
       "Total          27         836"
      ]
     },
     "execution_count": 36,
     "metadata": {},
     "output_type": "execute_result"
    }
   ],
   "source": [
    "consolidado = pd.DataFrame({'especies':especies.groupby('Estrato').size(), \n",
    "                            'individuos':especies.groupby('Estrato')['ind'].sum()})\n",
    "pd.concat([consolidado,pd.DataFrame(consolidado.sum(axis=0),columns=['Total']).T])\n"
   ]
  },
  {
   "cell_type": "markdown",
   "metadata": {},
   "source": [
    "## 2.- LINDEROS DE LA CHACRA"
   ]
  },
  {
   "cell_type": "markdown",
   "metadata": {},
   "source": [
    "Los linderos están definidos como un polígono en metros, desde una de las esquinas."
   ]
  },
  {
   "cell_type": "code",
   "execution_count": 37,
   "metadata": {
    "collapsed": false
   },
   "outputs": [
    {
     "data": {
      "image/svg+xml": [
       "<svg xmlns=\"http://www.w3.org/2000/svg\" xmlns:xlink=\"http://www.w3.org/1999/xlink\" width=\"100.0\" height=\"100.44\" viewBox=\"-3.72 -3.72 72.44 100.44\" preserveAspectRatio=\"xMinYMin meet\"><g transform=\"matrix(1,0,0,-1,0,93.0)\"><path fill-rule=\"evenodd\" fill=\"#66cc99\" stroke=\"#555555\" stroke-width=\"2.0\" opacity=\"0.6\" d=\"M 0.0,0.0 L 0.0,93.0 L 55.0,93.0 L 55.0,86.0 L 35.0,65.0 L 37.5,47.5 L 55.0,44.0 L 65.0,52.5 L 65.0,0.0 L 0.0,0.0 z\" /></g></svg>"
      ],
      "text/plain": [
       "<shapely.geometry.polygon.Polygon at 0xb02c99ac>"
      ]
     },
     "execution_count": 37,
     "metadata": {},
     "output_type": "execute_result"
    }
   ],
   "source": [
    "chacra = geometry.Polygon([ [0,0],\n",
    "                            [0, 93],\n",
    "                            [55, 93],\n",
    "                            [55, 86],\n",
    "                            [35, 65],\n",
    "                            [37.5, 47.5],\n",
    "                            [55, 44],\n",
    "                            [65, 52.5],\n",
    "                            [65, 0] ])\n",
    "chacra"
   ]
  },
  {
   "cell_type": "markdown",
   "metadata": {},
   "source": [
    "## 3.- Definir ubicaciones"
   ]
  },
  {
   "cell_type": "code",
   "execution_count": 38,
   "metadata": {
    "collapsed": true
   },
   "outputs": [],
   "source": [
    "def punto_aleatorio(poligono):\n",
    "    (minx, miny, maxx, maxy) = poligono.bounds\n",
    "    while True:\n",
    "        p = geometry.Point(random.uniform(minx, maxx), random.uniform(miny, maxy))\n",
    "        if poligono.contains(p):\n",
    "            return(p)"
   ]
  },
  {
   "cell_type": "code",
   "execution_count": 79,
   "metadata": {
    "collapsed": true
   },
   "outputs": [],
   "source": [
    "def regla_1(poblacion, planta):\n",
    "    # Regla 1: La distancia al lindero debe ser mayor que la mitad de la altura\n",
    "    if planta.pos.distance(poblacion.poligono.exterior) < planta['Altura.tot'] * 0.75:\n",
    "        raise ValueError('regla1')\n",
    "                \n",
    "def regla_2(poblacion, planta):\n",
    "    for anterior in poblacion.individuos.itertuples():\n",
    "        if planta.pos.distance(anterior[2]) < planta.Distancia / 2:\n",
    "            raise ValueError('regla2')"
   ]
  },
  {
   "cell_type": "code",
   "execution_count": 80,
   "metadata": {
    "collapsed": false
   },
   "outputs": [],
   "source": [
    "class Poblacion:\n",
    "    def __init__(self, poligono, especies):\n",
    "        self.poligono = poligono\n",
    "        individuos_columns = ['id', 'pos', 'x', 'y', 'color', 'Diametro.dosel', 'Nombre']\n",
    "        self.individuos = pd.DataFrame( columns=individuos_columns, )\n",
    "        self.n_individuos = 0\n",
    "        self.inubicables = 0\n",
    "        for especie in tqdm(list(especies.itertuples())):\n",
    "            n_especie = especie[0]\n",
    "            color_especie = np.random.rand(3,)\n",
    "            planta_tipo = especies.loc[n_especie]\n",
    "            for n_individuo in range(especies.ind[n_especie]):\n",
    "                self.n_individuos = self.n_individuos + 1\n",
    "                planta = planta_tipo.copy()\n",
    "                planta['id'] = n_especie\n",
    "                planta = self.ubicar(planta)\n",
    "                if planta['pos']:\n",
    "                    planta['color'] = color_especie\n",
    "                    planta['diametro'] = int(float(planta['Diametro.dosel'])*10)\n",
    "                    self.individuos.loc[self.n_individuos] = planta\n",
    "                self.individuos = self.individuos.dropna()\n",
    "        if self.inubicables:\n",
    "            print (\"No se pudieron ubicar \" + str(self.inubicables) + \" individuos.\")\n",
    "            #self.inubicables = pd.DataFrame(self.inubicables)\n",
    "                        \n",
    "    def ubicar(self, planta):\n",
    "        intentos = 100\n",
    "        while intentos:\n",
    "            intentos = intentos - 1\n",
    "            distancia_min = 1 # 1m\n",
    "                \n",
    "            pos = punto_aleatorio(self.poligono)       \n",
    "            planta['pos'] = pos\n",
    "            planta['x'], planta['y'] = pos.xy\n",
    "            \n",
    "            try:\n",
    "                regla_1(self, planta)\n",
    "                regla_2(self, planta)\n",
    "            except ValueError as e:\n",
    "                next\n",
    "            else:\n",
    "                return planta\n",
    "            \n",
    "        self.inubicables = self.inubicables + 1\n",
    "        planta['pos'] = None                \n",
    "        return planta"
   ]
  },
  {
   "cell_type": "code",
   "execution_count": 81,
   "metadata": {
    "collapsed": false
   },
   "outputs": [
    {
     "name": "stderr",
     "output_type": "stream",
     "text": [
      "                                               "
     ]
    },
    {
     "name": "stdout",
     "output_type": "stream",
     "text": [
      "No se pudieron ubicar 16\n"
     ]
    },
    {
     "name": "stderr",
     "output_type": "stream",
     "text": [
      "\r"
     ]
    }
   ],
   "source": [
    "# Demora bastante\n",
    "pob = Poblacion(chacra, especies)"
   ]
  },
  {
   "cell_type": "code",
   "execution_count": 85,
   "metadata": {
    "collapsed": false
   },
   "outputs": [
    {
     "name": "stdout",
     "output_type": "stream",
     "text": [
      "Se ubicaron 820 de 836 individuos.\n"
     ]
    }
   ],
   "source": [
    "print (\"Se ubicaron %s de %s individuos.\" % \n",
    "        ( len(pob.individuos), especies.ind.sum(axis=0)))"
   ]
  },
  {
   "cell_type": "markdown",
   "metadata": {},
   "source": [
    "## 4.- Graficar el mapa"
   ]
  },
  {
   "cell_type": "markdown",
   "metadata": {},
   "source": [
    "Empezamos por los linderos de la chacra."
   ]
  },
  {
   "cell_type": "code",
   "execution_count": 71,
   "metadata": {
    "collapsed": false,
    "scrolled": true
   },
   "outputs": [
    {
     "data": {
      "image/png": "[encoded data removed]",
      "text/plain": [
       "<matplotlib.figure.Figure at 0xb01df12c>"
      ]
     },
     "metadata": {},
     "output_type": "display_data"
    }
   ],
   "source": [
    "fig = plt.figure(figsize=(6, 6))\n",
    "chacra_x, chacra_y = chacra.exterior.xy\n",
    "ax = fig.add_subplot(111)\n",
    "ax.set_ylim(-10,150)\n",
    "ax.set_xlim(-20,110)\n",
    "ax.plot( *chacra.exterior.xy )\n",
    "ax.scatter(list(pob.individuos.x), \n",
    "           list(pob.individuos.y), \n",
    "           color=list(pob.individuos.color), \n",
    "           s=list(pob.individuos[\"Diametro.dosel\"]), \n",
    "           alpha=0.5)\n",
    "ax.grid(color='gray', alpha=0.9)"
   ]
  },
  {
   "cell_type": "code",
   "execution_count": null,
   "metadata": {
    "collapsed": false
   },
   "outputs": [],
   "source": [
    "# Gráfico interactivo\n",
    "mpld3.display(fig)"
   ]
  },
  {
   "cell_type": "code",
   "execution_count": null,
   "metadata": {
    "collapsed": true
   },
   "outputs": [],
   "source": []
  },
  {
   "cell_type": "code",
   "execution_count": null,
   "metadata": {
    "collapsed": true
   },
   "outputs": [],
   "source": []
  }
 ],
 "metadata": {
  "kernelspec": {
   "display_name": "Python 3",
   "language": "python",
   "name": "python3"
  }
 },
 "nbformat": 4,
 "nbformat_minor": 0
}
